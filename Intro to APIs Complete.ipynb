{
 "cells": [
  {
   "cell_type": "markdown",
   "id": "7196054f",
   "metadata": {},
   "source": [
    "# Working with APIs"
   ]
  },
  {
   "cell_type": "markdown",
   "id": "0547b71e",
   "metadata": {},
   "source": [
    "API stands for Application programming interface<br>\n",
    "APIs are a way for applications to talk to eachother<br>\n",
    "In python we use the requests package to handle the connection<br>\n",
    "<small><strong>Note: It is requests with an s not request(this is a different package)</strong></small><br>\n",
    "Most API's communicate with data in the form of JSON<br>\n",
    "JSON stands for JavaScript Object Notation"
   ]
  },
  {
   "cell_type": "code",
   "execution_count": 1,
   "id": "4db9d154",
   "metadata": {},
   "outputs": [],
   "source": [
    "#import the packages we need:\n",
    "import requests"
   ]
  },
  {
   "cell_type": "markdown",
   "id": "e8c2ce51",
   "metadata": {},
   "source": [
    "We will be connecting to the Ergast F1 Racer API today:\n",
    "http://ergast.com/mrd/\n",
    "\n",
    "to view JSON data nicely in the Chrome browser install the extension JSONview"
   ]
  },
  {
   "cell_type": "code",
   "execution_count": null,
   "id": "52c440c6",
   "metadata": {},
   "outputs": [],
   "source": [
    "help(requests)"
   ]
  },
  {
   "cell_type": "code",
   "execution_count": 5,
   "id": "f60c1b4a",
   "metadata": {},
   "outputs": [],
   "source": [
    "url = \"https://pokeapi.co/api/v2/pokemon/ditto\""
   ]
  },
  {
   "cell_type": "code",
   "execution_count": 6,
   "id": "7b63a204",
   "metadata": {},
   "outputs": [
    {
     "name": "stdout",
     "output_type": "stream",
     "text": [
      "<Response [200]>\n"
     ]
    }
   ],
   "source": [
    "#response object\n",
    "response = requests.get(url)\n",
    "print(response)"
   ]
  },
  {
   "cell_type": "code",
   "execution_count": 7,
   "id": "c6d1fdaf",
   "metadata": {},
   "outputs": [
    {
     "data": {
      "text/plain": [
       "True"
      ]
     },
     "execution_count": 7,
     "metadata": {},
     "output_type": "execute_result"
    }
   ],
   "source": [
    "#check and make sure we got a successful response from the API\n",
    "response.ok"
   ]
  },
  {
   "cell_type": "code",
   "execution_count": null,
   "id": "ed4d3256",
   "metadata": {},
   "outputs": [
    {
     "data": {
      "text/plain": [
       "{'abilities': [{'ability': {'name': 'limber',\n",
       "    'url': 'https://pokeapi.co/api/v2/ability/7/'},\n",
       "   'is_hidden': False,\n",
       "   'slot': 1},\n",
       "  {'ability': {'name': 'imposter',\n",
       "    'url': 'https://pokeapi.co/api/v2/ability/150/'},\n",
       "   'is_hidden': True,\n",
       "   'slot': 3}],\n",
       " 'base_experience': 101,\n",
       " 'forms': [{'name': 'ditto',\n",
       "   'url': 'https://pokeapi.co/api/v2/pokemon-form/132/'}],\n",
       " 'game_indices': [{'game_index': 76,\n",
       "   'version': {'name': 'red', 'url': 'https://pokeapi.co/api/v2/version/1/'}},\n",
       "  {'game_index': 76,\n",
       "   'version': {'name': 'blue', 'url': 'https://pokeapi.co/api/v2/version/2/'}},\n",
       "  {'game_index': 76,\n",
       "   'version': {'name': 'yellow',\n",
       "    'url': 'https://pokeapi.co/api/v2/version/3/'}},\n",
       "  {'game_index': 132,\n",
       "   'version': {'name': 'gold', 'url': 'https://pokeapi.co/api/v2/version/4/'}},\n",
       "  {'game_index': 132,\n",
       "   'version': {'name': 'silver',\n",
       "    'url': 'https://pokeapi.co/api/v2/version/5/'}},\n",
       "  {'game_index': 132,\n",
       "   'version': {'name': 'crystal',\n",
       "    'url': 'https://pokeapi.co/api/v2/version/6/'}},\n",
       "  {'game_index': 132,\n",
       "   'version': {'name': 'ruby', 'url': 'https://pokeapi.co/api/v2/version/7/'}},\n",
       "  {'game_index': 132,\n",
       "   'version': {'name': 'sapphire',\n",
       "    'url': 'https://pokeapi.co/api/v2/version/8/'}},\n",
       "  {'game_index': 132,\n",
       "   'version': {'name': 'emerald',\n",
       "    'url': 'https://pokeapi.co/api/v2/version/9/'}},\n",
       "  {'game_index': 132,\n",
       "   'version': {'name': 'firered',\n",
       "    'url': 'https://pokeapi.co/api/v2/version/10/'}},\n",
       "  {'game_index': 132,\n",
       "   'version': {'name': 'leafgreen',\n",
       "    'url': 'https://pokeapi.co/api/v2/version/11/'}},\n",
       "  {'game_index': 132,\n",
       "   'version': {'name': 'diamond',\n",
       "    'url': 'https://pokeapi.co/api/v2/version/12/'}},\n",
       "  {'game_index': 132,\n",
       "   'version': {'name': 'pearl',\n",
       "    'url': 'https://pokeapi.co/api/v2/version/13/'}},\n",
       "  {'game_index': 132,\n",
       "   'version': {'name': 'platinum',\n",
       "    'url': 'https://pokeapi.co/api/v2/version/14/'}},\n",
       "  {'game_index': 132,\n",
       "   'version': {'name': 'heartgold',\n",
       "    'url': 'https://pokeapi.co/api/v2/version/15/'}},\n",
       "  {'game_index': 132,\n",
       "   'version': {'name': 'soulsilver',\n",
       "    'url': 'https://pokeapi.co/api/v2/version/16/'}},\n",
       "  {'game_index': 132,\n",
       "   'version': {'name': 'black',\n",
       "    'url': 'https://pokeapi.co/api/v2/version/17/'}},\n",
       "  {'game_index': 132,\n",
       "   'version': {'name': 'white',\n",
       "    'url': 'https://pokeapi.co/api/v2/version/18/'}},\n",
       "  {'game_index': 132,\n",
       "   'version': {'name': 'black-2',\n",
       "    'url': 'https://pokeapi.co/api/v2/version/21/'}},\n",
       "  {'game_index': 132,\n",
       "   'version': {'name': 'white-2',\n",
       "    'url': 'https://pokeapi.co/api/v2/version/22/'}}],\n",
       " 'height': 3,\n",
       " 'held_items': [{'item': {'name': 'metal-powder',\n",
       "    'url': 'https://pokeapi.co/api/v2/item/234/'},\n",
       "   'version_details': [{'rarity': 5,\n",
       "     'version': {'name': 'ruby',\n",
       "      'url': 'https://pokeapi.co/api/v2/version/7/'}},\n",
       "    {'rarity': 5,\n",
       "     'version': {'name': 'sapphire',\n",
       "      'url': 'https://pokeapi.co/api/v2/version/8/'}},\n",
       "    {'rarity': 5,\n",
       "     'version': {'name': 'emerald',\n",
       "      'url': 'https://pokeapi.co/api/v2/version/9/'}},\n",
       "    {'rarity': 5,\n",
       "     'version': {'name': 'firered',\n",
       "      'url': 'https://pokeapi.co/api/v2/version/10/'}},\n",
       "    {'rarity': 5,\n",
       "     'version': {'name': 'leafgreen',\n",
       "      'url': 'https://pokeapi.co/api/v2/version/11/'}},\n",
       "    {'rarity': 5,\n",
       "     'version': {'name': 'diamond',\n",
       "      'url': 'https://pokeapi.co/api/v2/version/12/'}},\n",
       "    {'rarity': 5,\n",
       "     'version': {'name': 'pearl',\n",
       "      'url': 'https://pokeapi.co/api/v2/version/13/'}},\n",
       "    {'rarity': 5,\n",
       "     'version': {'name': 'platinum',\n",
       "      'url': 'https://pokeapi.co/api/v2/version/14/'}},\n",
       "    {'rarity': 5,\n",
       "     'version': {'name': 'heartgold',\n",
       "      'url': 'https://pokeapi.co/api/v2/version/15/'}},\n",
       "    {'rarity': 5,\n",
       "     'version': {'name': 'soulsilver',\n",
       "      'url': 'https://pokeapi.co/api/v2/version/16/'}},\n",
       "    {'rarity': 5,\n",
       "     'version': {'name': 'black',\n",
       "      'url': 'https://pokeapi.co/api/v2/version/17/'}},\n",
       "    {'rarity': 5,\n",
       "     'version': {'name': 'white',\n",
       "      'url': 'https://pokeapi.co/api/v2/version/18/'}},\n",
       "    {'rarity': 5,\n",
       "     'version': {'name': 'black-2',\n",
       "      'url': 'https://pokeapi.co/api/v2/version/21/'}},\n",
       "    {'rarity': 5,\n",
       "     'version': {'name': 'white-2',\n",
       "      'url': 'https://pokeapi.co/api/v2/version/22/'}},\n",
       "    {'rarity': 5,\n",
       "     'version': {'name': 'x', 'url': 'https://pokeapi.co/api/v2/version/23/'}},\n",
       "    {'rarity': 5,\n",
       "     'version': {'name': 'y', 'url': 'https://pokeapi.co/api/v2/version/24/'}},\n",
       "    {'rarity': 5,\n",
       "     'version': {'name': 'omega-ruby',\n",
       "      'url': 'https://pokeapi.co/api/v2/version/25/'}},\n",
       "    {'rarity': 5,\n",
       "     'version': {'name': 'alpha-sapphire',\n",
       "      'url': 'https://pokeapi.co/api/v2/version/26/'}},\n",
       "    {'rarity': 5,\n",
       "     'version': {'name': 'sun',\n",
       "      'url': 'https://pokeapi.co/api/v2/version/27/'}},\n",
       "    {'rarity': 5,\n",
       "     'version': {'name': 'moon',\n",
       "      'url': 'https://pokeapi.co/api/v2/version/28/'}},\n",
       "    {'rarity': 5,\n",
       "     'version': {'name': 'ultra-sun',\n",
       "      'url': 'https://pokeapi.co/api/v2/version/29/'}},\n",
       "    {'rarity': 5,\n",
       "     'version': {'name': 'ultra-moon',\n",
       "      'url': 'https://pokeapi.co/api/v2/version/30/'}}]},\n",
       "  {'item': {'name': 'quick-powder',\n",
       "    'url': 'https://pokeapi.co/api/v2/item/251/'},\n",
       "   'version_details': [{'rarity': 50,\n",
       "     'version': {'name': 'diamond',\n",
       "      'url': 'https://pokeapi.co/api/v2/version/12/'}},\n",
       "    {'rarity': 50,\n",
       "     'version': {'name': 'pearl',\n",
       "      'url': 'https://pokeapi.co/api/v2/version/13/'}},\n",
       "    {'rarity': 50,\n",
       "     'version': {'name': 'platinum',\n",
       "      'url': 'https://pokeapi.co/api/v2/version/14/'}},\n",
       "    {'rarity': 50,\n",
       "     'version': {'name': 'heartgold',\n",
       "      'url': 'https://pokeapi.co/api/v2/version/15/'}},\n",
       "    {'rarity': 50,\n",
       "     'version': {'name': 'soulsilver',\n",
       "      'url': 'https://pokeapi.co/api/v2/version/16/'}},\n",
       "    {'rarity': 50,\n",
       "     'version': {'name': 'black',\n",
       "      'url': 'https://pokeapi.co/api/v2/version/17/'}},\n",
       "    {'rarity': 50,\n",
       "     'version': {'name': 'white',\n",
       "      'url': 'https://pokeapi.co/api/v2/version/18/'}},\n",
       "    {'rarity': 50,\n",
       "     'version': {'name': 'black-2',\n",
       "      'url': 'https://pokeapi.co/api/v2/version/21/'}},\n",
       "    {'rarity': 50,\n",
       "     'version': {'name': 'white-2',\n",
       "      'url': 'https://pokeapi.co/api/v2/version/22/'}},\n",
       "    {'rarity': 50,\n",
       "     'version': {'name': 'x', 'url': 'https://pokeapi.co/api/v2/version/23/'}},\n",
       "    {'rarity': 50,\n",
       "     'version': {'name': 'y', 'url': 'https://pokeapi.co/api/v2/version/24/'}},\n",
       "    {'rarity': 50,\n",
       "     'version': {'name': 'omega-ruby',\n",
       "      'url': 'https://pokeapi.co/api/v2/version/25/'}},\n",
       "    {'rarity': 50,\n",
       "     'version': {'name': 'alpha-sapphire',\n",
       "      'url': 'https://pokeapi.co/api/v2/version/26/'}},\n",
       "    {'rarity': 50,\n",
       "     'version': {'name': 'sun',\n",
       "      'url': 'https://pokeapi.co/api/v2/version/27/'}},\n",
       "    {'rarity': 50,\n",
       "     'version': {'name': 'moon',\n",
       "      'url': 'https://pokeapi.co/api/v2/version/28/'}},\n",
       "    {'rarity': 50,\n",
       "     'version': {'name': 'ultra-sun',\n",
       "      'url': 'https://pokeapi.co/api/v2/version/29/'}},\n",
       "    {'rarity': 50,\n",
       "     'version': {'name': 'ultra-moon',\n",
       "      'url': 'https://pokeapi.co/api/v2/version/30/'}}]}],\n",
       " 'id': 132,\n",
       " 'is_default': True,\n",
       " 'location_area_encounters': 'https://pokeapi.co/api/v2/pokemon/132/encounters',\n",
       " 'moves': [{'move': {'name': 'transform',\n",
       "    'url': 'https://pokeapi.co/api/v2/move/144/'},\n",
       "   'version_group_details': [{'level_learned_at': 1,\n",
       "     'move_learn_method': {'name': 'level-up',\n",
       "      'url': 'https://pokeapi.co/api/v2/move-learn-method/1/'},\n",
       "     'version_group': {'name': 'red-blue',\n",
       "      'url': 'https://pokeapi.co/api/v2/version-group/1/'}},\n",
       "    {'level_learned_at': 1,\n",
       "     'move_learn_method': {'name': 'level-up',\n",
       "      'url': 'https://pokeapi.co/api/v2/move-learn-method/1/'},\n",
       "     'version_group': {'name': 'yellow',\n",
       "      'url': 'https://pokeapi.co/api/v2/version-group/2/'}},\n",
       "    {'level_learned_at': 1,\n",
       "     'move_learn_method': {'name': 'level-up',\n",
       "      'url': 'https://pokeapi.co/api/v2/move-learn-method/1/'},\n",
       "     'version_group': {'name': 'gold-silver',\n",
       "      'url': 'https://pokeapi.co/api/v2/version-group/3/'}},\n",
       "    {'level_learned_at': 1,\n",
       "     'move_learn_method': {'name': 'level-up',\n",
       "      'url': 'https://pokeapi.co/api/v2/move-learn-method/1/'},\n",
       "     'version_group': {'name': 'crystal',\n",
       "      'url': 'https://pokeapi.co/api/v2/version-group/4/'}},\n",
       "    {'level_learned_at': 1,\n",
       "     'move_learn_method': {'name': 'level-up',\n",
       "      'url': 'https://pokeapi.co/api/v2/move-learn-method/1/'},\n",
       "     'version_group': {'name': 'ruby-sapphire',\n",
       "      'url': 'https://pokeapi.co/api/v2/version-group/5/'}},\n",
       "    {'level_learned_at': 1,\n",
       "     'move_learn_method': {'name': 'level-up',\n",
       "      'url': 'https://pokeapi.co/api/v2/move-learn-method/1/'},\n",
       "     'version_group': {'name': 'emerald',\n",
       "      'url': 'https://pokeapi.co/api/v2/version-group/6/'}},\n",
       "    {'level_learned_at': 1,\n",
       "     'move_learn_method': {'name': 'level-up',\n",
       "      'url': 'https://pokeapi.co/api/v2/move-learn-method/1/'},\n",
       "     'version_group': {'name': 'firered-leafgreen',\n",
       "      'url': 'https://pokeapi.co/api/v2/version-group/7/'}},\n",
       "    {'level_learned_at': 1,\n",
       "     'move_learn_method': {'name': 'level-up',\n",
       "      'url': 'https://pokeapi.co/api/v2/move-learn-method/1/'},\n",
       "     'version_group': {'name': 'diamond-pearl',\n",
       "      'url': 'https://pokeapi.co/api/v2/version-group/8/'}},\n",
       "    {'level_learned_at': 1,\n",
       "     'move_learn_method': {'name': 'level-up',\n",
       "      'url': 'https://pokeapi.co/api/v2/move-learn-method/1/'},\n",
       "     'version_group': {'name': 'platinum',\n",
       "      'url': 'https://pokeapi.co/api/v2/version-group/9/'}},\n",
       "    {'level_learned_at': 1,\n",
       "     'move_learn_method': {'name': 'level-up',\n",
       "      'url': 'https://pokeapi.co/api/v2/move-learn-method/1/'},\n",
       "     'version_group': {'name': 'heartgold-soulsilver',\n",
       "      'url': 'https://pokeapi.co/api/v2/version-group/10/'}},\n",
       "    {'level_learned_at': 1,\n",
       "     'move_learn_method': {'name': 'level-up',\n",
       "      'url': 'https://pokeapi.co/api/v2/move-learn-method/1/'},\n",
       "     'version_group': {'name': 'black-white',\n",
       "      'url': 'https://pokeapi.co/api/v2/version-group/11/'}},\n",
       "    {'level_learned_at': 1,\n",
       "     'move_learn_method': {'name': 'level-up',\n",
       "      'url': 'https://pokeapi.co/api/v2/move-learn-method/1/'},\n",
       "     'version_group': {'name': 'colosseum',\n",
       "      'url': 'https://pokeapi.co/api/v2/version-group/12/'}},\n",
       "    {'level_learned_at': 1,\n",
       "     'move_learn_method': {'name': 'level-up',\n",
       "      'url': 'https://pokeapi.co/api/v2/move-learn-method/1/'},\n",
       "     'version_group': {'name': 'xd',\n",
       "      'url': 'https://pokeapi.co/api/v2/version-group/13/'}},\n",
       "    {'level_learned_at': 1,\n",
       "     'move_learn_method': {'name': 'level-up',\n",
       "      'url': 'https://pokeapi.co/api/v2/move-learn-method/1/'},\n",
       "     'version_group': {'name': 'black-2-white-2',\n",
       "      'url': 'https://pokeapi.co/api/v2/version-group/14/'}},\n",
       "    {'level_learned_at': 1,\n",
       "     'move_learn_method': {'name': 'level-up',\n",
       "      'url': 'https://pokeapi.co/api/v2/move-learn-method/1/'},\n",
       "     'version_group': {'name': 'x-y',\n",
       "      'url': 'https://pokeapi.co/api/v2/version-group/15/'}},\n",
       "    {'level_learned_at': 1,\n",
       "     'move_learn_method': {'name': 'level-up',\n",
       "      'url': 'https://pokeapi.co/api/v2/move-learn-method/1/'},\n",
       "     'version_group': {'name': 'omega-ruby-alpha-sapphire',\n",
       "      'url': 'https://pokeapi.co/api/v2/version-group/16/'}},\n",
       "    {'level_learned_at': 1,\n",
       "     'move_learn_method': {'name': 'level-up',\n",
       "      'url': 'https://pokeapi.co/api/v2/move-learn-method/1/'},\n",
       "     'version_group': {'name': 'sun-moon',\n",
       "      'url': 'https://pokeapi.co/api/v2/version-group/17/'}},\n",
       "    {'level_learned_at': 1,\n",
       "     'move_learn_method': {'name': 'level-up',\n",
       "      'url': 'https://pokeapi.co/api/v2/move-learn-method/1/'},\n",
       "     'version_group': {'name': 'ultra-sun-ultra-moon',\n",
       "      'url': 'https://pokeapi.co/api/v2/version-group/18/'}},\n",
       "    {'level_learned_at': 1,\n",
       "     'move_learn_method': {'name': 'level-up',\n",
       "      'url': 'https://pokeapi.co/api/v2/move-learn-method/1/'},\n",
       "     'version_group': {'name': 'lets-go-pikachu-lets-go-eevee',\n",
       "      'url': 'https://pokeapi.co/api/v2/version-group/19/'}},\n",
       "    {'level_learned_at': 1,\n",
       "     'move_learn_method': {'name': 'level-up',\n",
       "      'url': 'https://pokeapi.co/api/v2/move-learn-method/1/'},\n",
       "     'version_group': {'name': 'sword-shield',\n",
       "      'url': 'https://pokeapi.co/api/v2/version-group/20/'}}]}],\n",
       " 'name': 'ditto',\n",
       " 'order': 214,\n",
       " 'past_types': [],\n",
       " 'species': {'name': 'ditto',\n",
       "  'url': 'https://pokeapi.co/api/v2/pokemon-species/132/'},\n",
       " 'sprites': {'back_default': 'https://raw.githubusercontent.com/PokeAPI/sprites/master/sprites/pokemon/back/132.png',\n",
       "  'back_female': None,\n",
       "  'back_shiny': 'https://raw.githubusercontent.com/PokeAPI/sprites/master/sprites/pokemon/back/shiny/132.png',\n",
       "  'back_shiny_female': None,\n",
       "  'front_default': 'https://raw.githubusercontent.com/PokeAPI/sprites/master/sprites/pokemon/132.png',\n",
       "  'front_female': None,\n",
       "  'front_shiny': 'https://raw.githubusercontent.com/PokeAPI/sprites/master/sprites/pokemon/shiny/132.png',\n",
       "  'front_shiny_female': None,\n",
       "  'other': {'dream_world': {'front_default': 'https://raw.githubusercontent.com/PokeAPI/sprites/master/sprites/pokemon/other/dream-world/132.svg',\n",
       "    'front_female': None},\n",
       "   'home': {'front_default': 'https://raw.githubusercontent.com/PokeAPI/sprites/master/sprites/pokemon/other/home/132.png',\n",
       "    'front_female': None,\n",
       "    'front_shiny': 'https://raw.githubusercontent.com/PokeAPI/sprites/master/sprites/pokemon/other/home/shiny/132.png',\n",
       "    'front_shiny_female': None},\n",
       "   'official-artwork': {'front_default': 'https://raw.githubusercontent.com/PokeAPI/sprites/master/sprites/pokemon/other/official-artwork/132.png'}},\n",
       "  'versions': {'generation-i': {'red-blue': {'back_default': 'https://raw.githubusercontent.com/PokeAPI/sprites/master/sprites/pokemon/versions/generation-i/red-blue/back/132.png',\n",
       "     'back_gray': 'https://raw.githubusercontent.com/PokeAPI/sprites/master/sprites/pokemon/versions/generation-i/red-blue/back/gray/132.png',\n",
       "     'back_transparent': 'https://raw.githubusercontent.com/PokeAPI/sprites/master/sprites/pokemon/versions/generation-i/red-blue/transparent/back/132.png',\n",
       "     'front_default': 'https://raw.githubusercontent.com/PokeAPI/sprites/master/sprites/pokemon/versions/generation-i/red-blue/132.png',\n",
       "     'front_gray': 'https://raw.githubusercontent.com/PokeAPI/sprites/master/sprites/pokemon/versions/generation-i/red-blue/gray/132.png',\n",
       "     'front_transparent': 'https://raw.githubusercontent.com/PokeAPI/sprites/master/sprites/pokemon/versions/generation-i/red-blue/transparent/132.png'},\n",
       "    'yellow': {'back_default': 'https://raw.githubusercontent.com/PokeAPI/sprites/master/sprites/pokemon/versions/generation-i/yellow/back/132.png',\n",
       "     'back_gray': 'https://raw.githubusercontent.com/PokeAPI/sprites/master/sprites/pokemon/versions/generation-i/yellow/back/gray/132.png',\n",
       "     'back_transparent': 'https://raw.githubusercontent.com/PokeAPI/sprites/master/sprites/pokemon/versions/generation-i/yellow/transparent/back/132.png',\n",
       "     'front_default': 'https://raw.githubusercontent.com/PokeAPI/sprites/master/sprites/pokemon/versions/generation-i/yellow/132.png',\n",
       "     'front_gray': 'https://raw.githubusercontent.com/PokeAPI/sprites/master/sprites/pokemon/versions/generation-i/yellow/gray/132.png',\n",
       "     'front_transparent': 'https://raw.githubusercontent.com/PokeAPI/sprites/master/sprites/pokemon/versions/generation-i/yellow/transparent/132.png'}},\n",
       "   'generation-ii': {'crystal': {'back_default': 'https://raw.githubusercontent.com/PokeAPI/sprites/master/sprites/pokemon/versions/generation-ii/crystal/back/132.png',\n",
       "     'back_shiny': 'https://raw.githubusercontent.com/PokeAPI/sprites/master/sprites/pokemon/versions/generation-ii/crystal/back/shiny/132.png',\n",
       "     'back_shiny_transparent': 'https://raw.githubusercontent.com/PokeAPI/sprites/master/sprites/pokemon/versions/generation-ii/crystal/transparent/back/shiny/132.png',\n",
       "     'back_transparent': 'https://raw.githubusercontent.com/PokeAPI/sprites/master/sprites/pokemon/versions/generation-ii/crystal/transparent/back/132.png',\n",
       "     'front_default': 'https://raw.githubusercontent.com/PokeAPI/sprites/master/sprites/pokemon/versions/generation-ii/crystal/132.png',\n",
       "     'front_shiny': 'https://raw.githubusercontent.com/PokeAPI/sprites/master/sprites/pokemon/versions/generation-ii/crystal/shiny/132.png',\n",
       "     'front_shiny_transparent': 'https://raw.githubusercontent.com/PokeAPI/sprites/master/sprites/pokemon/versions/generation-ii/crystal/transparent/shiny/132.png',\n",
       "     'front_transparent': 'https://raw.githubusercontent.com/PokeAPI/sprites/master/sprites/pokemon/versions/generation-ii/crystal/transparent/132.png'},\n",
       "    'gold': {'back_default': 'https://raw.githubusercontent.com/PokeAPI/sprites/master/sprites/pokemon/versions/generation-ii/gold/back/132.png',\n",
       "     'back_shiny': 'https://raw.githubusercontent.com/PokeAPI/sprites/master/sprites/pokemon/versions/generation-ii/gold/back/shiny/132.png',\n",
       "     'front_default': 'https://raw.githubusercontent.com/PokeAPI/sprites/master/sprites/pokemon/versions/generation-ii/gold/132.png',\n",
       "     'front_shiny': 'https://raw.githubusercontent.com/PokeAPI/sprites/master/sprites/pokemon/versions/generation-ii/gold/shiny/132.png',\n",
       "     'front_transparent': 'https://raw.githubusercontent.com/PokeAPI/sprites/master/sprites/pokemon/versions/generation-ii/gold/transparent/132.png'},\n",
       "    'silver': {'back_default': 'https://raw.githubusercontent.com/PokeAPI/sprites/master/sprites/pokemon/versions/generation-ii/silver/back/132.png',\n",
       "     'back_shiny': 'https://raw.githubusercontent.com/PokeAPI/sprites/master/sprites/pokemon/versions/generation-ii/silver/back/shiny/132.png',\n",
       "     'front_default': 'https://raw.githubusercontent.com/PokeAPI/sprites/master/sprites/pokemon/versions/generation-ii/silver/132.png',\n",
       "     'front_shiny': 'https://raw.githubusercontent.com/PokeAPI/sprites/master/sprites/pokemon/versions/generation-ii/silver/shiny/132.png',\n",
       "     'front_transparent': 'https://raw.githubusercontent.com/PokeAPI/sprites/master/sprites/pokemon/versions/generation-ii/silver/transparent/132.png'}},\n",
       "   'generation-iii': {'emerald': {'front_default': 'https://raw.githubusercontent.com/PokeAPI/sprites/master/sprites/pokemon/versions/generation-iii/emerald/132.png',\n",
       "     'front_shiny': 'https://raw.githubusercontent.com/PokeAPI/sprites/master/sprites/pokemon/versions/generation-iii/emerald/shiny/132.png'},\n",
       "    'firered-leafgreen': {'back_default': 'https://raw.githubusercontent.com/PokeAPI/sprites/master/sprites/pokemon/versions/generation-iii/firered-leafgreen/back/132.png',\n",
       "     'back_shiny': 'https://raw.githubusercontent.com/PokeAPI/sprites/master/sprites/pokemon/versions/generation-iii/firered-leafgreen/back/shiny/132.png',\n",
       "     'front_default': 'https://raw.githubusercontent.com/PokeAPI/sprites/master/sprites/pokemon/versions/generation-iii/firered-leafgreen/132.png',\n",
       "     'front_shiny': 'https://raw.githubusercontent.com/PokeAPI/sprites/master/sprites/pokemon/versions/generation-iii/firered-leafgreen/shiny/132.png'},\n",
       "    'ruby-sapphire': {'back_default': 'https://raw.githubusercontent.com/PokeAPI/sprites/master/sprites/pokemon/versions/generation-iii/ruby-sapphire/back/132.png',\n",
       "     'back_shiny': 'https://raw.githubusercontent.com/PokeAPI/sprites/master/sprites/pokemon/versions/generation-iii/ruby-sapphire/back/shiny/132.png',\n",
       "     'front_default': 'https://raw.githubusercontent.com/PokeAPI/sprites/master/sprites/pokemon/versions/generation-iii/ruby-sapphire/132.png',\n",
       "     'front_shiny': 'https://raw.githubusercontent.com/PokeAPI/sprites/master/sprites/pokemon/versions/generation-iii/ruby-sapphire/shiny/132.png'}},\n",
       "   'generation-iv': {'diamond-pearl': {'back_default': 'https://raw.githubusercontent.com/PokeAPI/sprites/master/sprites/pokemon/versions/generation-iv/diamond-pearl/back/132.png',\n",
       "     'back_female': None,\n",
       "     'back_shiny': 'https://raw.githubusercontent.com/PokeAPI/sprites/master/sprites/pokemon/versions/generation-iv/diamond-pearl/back/shiny/132.png',\n",
       "     'back_shiny_female': None,\n",
       "     'front_default': 'https://raw.githubusercontent.com/PokeAPI/sprites/master/sprites/pokemon/versions/generation-iv/diamond-pearl/132.png',\n",
       "     'front_female': None,\n",
       "     'front_shiny': 'https://raw.githubusercontent.com/PokeAPI/sprites/master/sprites/pokemon/versions/generation-iv/diamond-pearl/shiny/132.png',\n",
       "     'front_shiny_female': None},\n",
       "    'heartgold-soulsilver': {'back_default': 'https://raw.githubusercontent.com/PokeAPI/sprites/master/sprites/pokemon/versions/generation-iv/heartgold-soulsilver/back/132.png',\n",
       "     'back_female': None,\n",
       "     'back_shiny': 'https://raw.githubusercontent.com/PokeAPI/sprites/master/sprites/pokemon/versions/generation-iv/heartgold-soulsilver/back/shiny/132.png',\n",
       "     'back_shiny_female': None,\n",
       "     'front_default': 'https://raw.githubusercontent.com/PokeAPI/sprites/master/sprites/pokemon/versions/generation-iv/heartgold-soulsilver/132.png',\n",
       "     'front_female': None,\n",
       "     'front_shiny': 'https://raw.githubusercontent.com/PokeAPI/sprites/master/sprites/pokemon/versions/generation-iv/heartgold-soulsilver/shiny/132.png',\n",
       "     'front_shiny_female': None},\n",
       "    'platinum': {'back_default': 'https://raw.githubusercontent.com/PokeAPI/sprites/master/sprites/pokemon/versions/generation-iv/platinum/back/132.png',\n",
       "     'back_female': None,\n",
       "     'back_shiny': 'https://raw.githubusercontent.com/PokeAPI/sprites/master/sprites/pokemon/versions/generation-iv/platinum/back/shiny/132.png',\n",
       "     'back_shiny_female': None,\n",
       "     'front_default': 'https://raw.githubusercontent.com/PokeAPI/sprites/master/sprites/pokemon/versions/generation-iv/platinum/132.png',\n",
       "     'front_female': None,\n",
       "     'front_shiny': 'https://raw.githubusercontent.com/PokeAPI/sprites/master/sprites/pokemon/versions/generation-iv/platinum/shiny/132.png',\n",
       "     'front_shiny_female': None}},\n",
       "   'generation-v': {'black-white': {'animated': {'back_default': 'https://raw.githubusercontent.com/PokeAPI/sprites/master/sprites/pokemon/versions/generation-v/black-white/animated/back/132.gif',\n",
       "      'back_female': None,\n",
       "      'back_shiny': 'https://raw.githubusercontent.com/PokeAPI/sprites/master/sprites/pokemon/versions/generation-v/black-white/animated/back/shiny/132.gif',\n",
       "      'back_shiny_female': None,\n",
       "      'front_default': 'https://raw.githubusercontent.com/PokeAPI/sprites/master/sprites/pokemon/versions/generation-v/black-white/animated/132.gif',\n",
       "      'front_female': None,\n",
       "      'front_shiny': 'https://raw.githubusercontent.com/PokeAPI/sprites/master/sprites/pokemon/versions/generation-v/black-white/animated/shiny/132.gif',\n",
       "      'front_shiny_female': None},\n",
       "     'back_default': 'https://raw.githubusercontent.com/PokeAPI/sprites/master/sprites/pokemon/versions/generation-v/black-white/back/132.png',\n",
       "     'back_female': None,\n",
       "     'back_shiny': 'https://raw.githubusercontent.com/PokeAPI/sprites/master/sprites/pokemon/versions/generation-v/black-white/back/shiny/132.png',\n",
       "     'back_shiny_female': None,\n",
       "     'front_default': 'https://raw.githubusercontent.com/PokeAPI/sprites/master/sprites/pokemon/versions/generation-v/black-white/132.png',\n",
       "     'front_female': None,\n",
       "     'front_shiny': 'https://raw.githubusercontent.com/PokeAPI/sprites/master/sprites/pokemon/versions/generation-v/black-white/shiny/132.png',\n",
       "     'front_shiny_female': None}},\n",
       "   'generation-vi': {'omegaruby-alphasapphire': {'front_default': 'https://raw.githubusercontent.com/PokeAPI/sprites/master/sprites/pokemon/versions/generation-vi/omegaruby-alphasapphire/132.png',\n",
       "     'front_female': None,\n",
       "     'front_shiny': 'https://raw.githubusercontent.com/PokeAPI/sprites/master/sprites/pokemon/versions/generation-vi/omegaruby-alphasapphire/shiny/132.png',\n",
       "     'front_shiny_female': None},\n",
       "    'x-y': {'front_default': 'https://raw.githubusercontent.com/PokeAPI/sprites/master/sprites/pokemon/versions/generation-vi/x-y/132.png',\n",
       "     'front_female': None,\n",
       "     'front_shiny': 'https://raw.githubusercontent.com/PokeAPI/sprites/master/sprites/pokemon/versions/generation-vi/x-y/shiny/132.png',\n",
       "     'front_shiny_female': None}},\n",
       "   'generation-vii': {'icons': {'front_default': 'https://raw.githubusercontent.com/PokeAPI/sprites/master/sprites/pokemon/versions/generation-vii/icons/132.png',\n",
       "     'front_female': None},\n",
       "    'ultra-sun-ultra-moon': {'front_default': 'https://raw.githubusercontent.com/PokeAPI/sprites/master/sprites/pokemon/versions/generation-vii/ultra-sun-ultra-moon/132.png',\n",
       "     'front_female': None,\n",
       "     'front_shiny': 'https://raw.githubusercontent.com/PokeAPI/sprites/master/sprites/pokemon/versions/generation-vii/ultra-sun-ultra-moon/shiny/132.png',\n",
       "     'front_shiny_female': None}},\n",
       "   'generation-viii': {'icons': {'front_default': 'https://raw.githubusercontent.com/PokeAPI/sprites/master/sprites/pokemon/versions/generation-viii/icons/132.png',\n",
       "     'front_female': None}}}},\n",
       " 'stats': [{'base_stat': 48,\n",
       "   'effort': 1,\n",
       "   'stat': {'name': 'hp', 'url': 'https://pokeapi.co/api/v2/stat/1/'}},\n",
       "  {'base_stat': 48,\n",
       "   'effort': 0,\n",
       "   'stat': {'name': 'attack', 'url': 'https://pokeapi.co/api/v2/stat/2/'}},\n",
       "  {'base_stat': 48,\n",
       "   'effort': 0,\n",
       "   'stat': {'name': 'defense', 'url': 'https://pokeapi.co/api/v2/stat/3/'}},\n",
       "  {'base_stat': 48,\n",
       "   'effort': 0,\n",
       "   'stat': {'name': 'special-attack',\n",
       "    'url': 'https://pokeapi.co/api/v2/stat/4/'}},\n",
       "  {'base_stat': 48,\n",
       "   'effort': 0,\n",
       "   'stat': {'name': 'special-defense',\n",
       "    'url': 'https://pokeapi.co/api/v2/stat/5/'}},\n",
       "  {'base_stat': 48,\n",
       "   'effort': 0,\n",
       "   'stat': {'name': 'speed', 'url': 'https://pokeapi.co/api/v2/stat/6/'}}],\n",
       " 'types': [{'slot': 1,\n",
       "   'type': {'name': 'normal', 'url': 'https://pokeapi.co/api/v2/type/1/'}}],\n",
       " 'weight': 40}"
      ]
     },
     "execution_count": 5,
     "metadata": {},
     "output_type": "execute_result"
    }
   ],
   "source": [
    "#view the response as a JSON\n",
    "response.json()"
   ]
  },
  {
   "cell_type": "code",
   "execution_count": null,
   "id": "92e6cd2c",
   "metadata": {},
   "outputs": [
    {
     "data": {
      "text/plain": [
       "dict"
      ]
     },
     "execution_count": 29,
     "metadata": {},
     "output_type": "execute_result"
    }
   ],
   "source": [
    "type(response.json())"
   ]
  },
  {
   "cell_type": "code",
   "execution_count": 9,
   "id": "f074dfcf",
   "metadata": {},
   "outputs": [
    {
     "data": {
      "text/plain": [
       "'limber'"
      ]
     },
     "execution_count": 9,
     "metadata": {},
     "output_type": "execute_result"
    }
   ],
   "source": [
    "data = response.json()\n",
    "ability = data['abilities'][0]['ability']['name']\n",
    "ability"
   ]
  },
  {
   "cell_type": "code",
   "execution_count": null,
   "id": "c8731f52",
   "metadata": {},
   "outputs": [
    {
     "data": {
      "text/plain": [
       "'ditto'"
      ]
     },
     "execution_count": 35,
     "metadata": {},
     "output_type": "execute_result"
    }
   ],
   "source": [
    "pok_name = data['forms'][0]['name']\n",
    "pok_name"
   ]
  },
  {
   "cell_type": "code",
   "execution_count": null,
   "id": "c4f4bd67",
   "metadata": {},
   "outputs": [
    {
     "data": {
      "text/plain": [
       "101"
      ]
     },
     "execution_count": 41,
     "metadata": {},
     "output_type": "execute_result"
    }
   ],
   "source": [
    "base_exp = data['base_experience']\n",
    "base_exp"
   ]
  },
  {
   "cell_type": "code",
   "execution_count": 10,
   "id": "0abea368",
   "metadata": {},
   "outputs": [
    {
     "data": {
      "text/plain": [
       "'https://raw.githubusercontent.com/PokeAPI/sprites/master/sprites/pokemon/shiny/132.png'"
      ]
     },
     "execution_count": 10,
     "metadata": {},
     "output_type": "execute_result"
    }
   ],
   "source": [
    "url_front = data['sprites']['front_shiny']\n",
    "url_front"
   ]
  },
  {
   "cell_type": "code",
   "execution_count": null,
   "id": "7c7ad086",
   "metadata": {},
   "outputs": [
    {
     "data": {
      "text/plain": [
       "48"
      ]
     },
     "execution_count": 16,
     "metadata": {},
     "output_type": "execute_result"
    }
   ],
   "source": [
    "base_hp = data['stats'][0]['base_stat']\n",
    "base_hp"
   ]
  },
  {
   "cell_type": "code",
   "execution_count": null,
   "id": "90e92d03",
   "metadata": {},
   "outputs": [
    {
     "data": {
      "text/plain": [
       "48"
      ]
     },
     "execution_count": 17,
     "metadata": {},
     "output_type": "execute_result"
    }
   ],
   "source": [
    "base_att = data['stats'][1]['base_stat']\n",
    "base_att"
   ]
  },
  {
   "cell_type": "code",
   "execution_count": null,
   "id": "bb477e84",
   "metadata": {},
   "outputs": [
    {
     "data": {
      "text/plain": [
       "48"
      ]
     },
     "execution_count": 40,
     "metadata": {},
     "output_type": "execute_result"
    }
   ],
   "source": [
    "base_def = data['stats'][2]['base_stat']\n",
    "base_def"
   ]
  },
  {
   "cell_type": "code",
   "execution_count": null,
   "id": "d3794c75",
   "metadata": {},
   "outputs": [
    {
     "data": {
      "text/plain": [
       "str"
      ]
     },
     "execution_count": 22,
     "metadata": {},
     "output_type": "execute_result"
    }
   ],
   "source": [
    "type(data)"
   ]
  },
  {
   "cell_type": "code",
   "execution_count": 11,
   "id": "e85cc2da",
   "metadata": {},
   "outputs": [
    {
     "name": "stdout",
     "output_type": "stream",
     "text": [
      "Name: Ditto\n",
      "Ability: Limber\n",
      "Base Experience: 101\n",
      "Sprite: https://raw.githubusercontent.com/PokeAPI/sprites/master/sprites/pokemon/shiny/132.png\n",
      "Attack Base Stat: 48\n",
      "HP Base Stat: 48\n",
      "Defense Base Stat: 48\n",
      "\n",
      "\n",
      "Name: Pikachu\n",
      "Ability: Static\n",
      "Base Experience: 112\n",
      "Sprite: https://raw.githubusercontent.com/PokeAPI/sprites/master/sprites/pokemon/shiny/25.png\n",
      "Attack Base Stat: 55\n",
      "HP Base Stat: 35\n",
      "Defense Base Stat: 40\n",
      "\n",
      "\n",
      "Name: Wigglytuff\n",
      "Ability: Cute-Charm\n",
      "Base Experience: 218\n",
      "Sprite: https://raw.githubusercontent.com/PokeAPI/sprites/master/sprites/pokemon/shiny/40.png\n",
      "Attack Base Stat: 70\n",
      "HP Base Stat: 140\n",
      "Defense Base Stat: 45\n",
      "\n",
      "\n",
      "Name: Ivysaur\n",
      "Ability: Overgrow\n",
      "Base Experience: 142\n",
      "Sprite: https://raw.githubusercontent.com/PokeAPI/sprites/master/sprites/pokemon/shiny/2.png\n",
      "Attack Base Stat: 62\n",
      "HP Base Stat: 60\n",
      "Defense Base Stat: 63\n",
      "\n",
      "\n",
      "Name: Kakuna\n",
      "Ability: Shed-Skin\n",
      "Base Experience: 72\n",
      "Sprite: https://raw.githubusercontent.com/PokeAPI/sprites/master/sprites/pokemon/shiny/14.png\n",
      "Attack Base Stat: 25\n",
      "HP Base Stat: 45\n",
      "Defense Base Stat: 50\n",
      "\n",
      "\n"
     ]
    }
   ],
   "source": [
    "pok_url = [\"https://pokeapi.co/api/v2/pokemon/ditto\", \"https://pokeapi.co/api/v2/pokemon/pikachu\", \n",
    "          \"https://pokeapi.co/api/v2/pokemon/wigglytuff\", \"https://pokeapi.co/api/v2/pokemon/ivysaur\",\n",
    "         \"https://pokeapi.co/api/v2/pokemon/kakuna\"]\n",
    "for url in pok_url:\n",
    "    data = requests.get(url).json()\n",
    "    print(f\"Name: {data['forms'][0]['name'].title()}\")\n",
    "    print(f\"Ability: {data['abilities'][0]['ability']['name'].title()}\")\n",
    "    print(f\"Base Experience: {data['base_experience']}\")\n",
    "    print(f\"Sprite: {data['sprites']['front_shiny']}\")\n",
    "    print(f\"Attack Base Stat: {data['stats'][1]['base_stat']}\")\n",
    "    print(f\"HP Base Stat: {data['stats'][0]['base_stat']}\")\n",
    "    print(f\"Defense Base Stat: {data['stats'][2]['base_stat']}\")\n",
    "    print('\\n')"
   ]
  },
  {
   "cell_type": "code",
   "execution_count": 17,
   "id": "d5a9ec61",
   "metadata": {},
   "outputs": [
    {
     "data": {
      "text/plain": [
       "{'name': 'kakuna',\n",
       " 'abilities': 'shed-skin',\n",
       " 'base_exp': 72,\n",
       " 'sprite': 'https://raw.githubusercontent.com/PokeAPI/sprites/master/sprites/pokemon/shiny/14.png',\n",
       " 'attack': 25,\n",
       " 'hp': 45,\n",
       " 'defense': 50}"
      ]
     },
     "execution_count": 17,
     "metadata": {},
     "output_type": "execute_result"
    }
   ],
   "source": [
    "def poke_info(poke_name):\n",
    "    url = f'https://pokeapi.co/api/v2/pokemon/{poke_name}'\n",
    "    response = requests.get(url)\n",
    "    data = response.json()\n",
    "    poke_dict = {\n",
    "        'name' : data['forms'][0]['name'],\n",
    "        'abilities' : data['abilities'][0]['ability']['name'],\n",
    "        'base_exp' : data['base_experience'],\n",
    "        'sprite' : data['sprites']['front_shiny'],\n",
    "        'attack' : data['stats'][1]['base_stat'],\n",
    "        'hp' : data['stats'][0]['base_stat'],\n",
    "        'defense' : data['stats'][2]['base_stat']\n",
    "        }\n",
    "    \n",
    "    return poke_dict\n",
    "\n",
    "\n",
    "poke_info('ditto')\n",
    "poke_info('pikachu')\n",
    "poke_info('wigglytuff')\n",
    "poke_info('ivysaur')\n",
    "poke_info('kakuna')"
   ]
  },
  {
   "cell_type": "markdown",
   "id": "6d546014",
   "metadata": {},
   "source": [
    "# <strong>Homework</strong>\n",
    "check out this Pokemon API https://pokeapi.co/\n",
    "Use the requests package to connect to this API and get and store data for 5 different pokemon.\n",
    "Get the pokemons: name, atleast one ability's name, base_experience, and the URL for its sprite (an image that shows up on screen) for the 'front_shiny'"
   ]
  },
  {
   "cell_type": "code",
   "execution_count": null,
   "id": "5a9081e3",
   "metadata": {},
   "outputs": [],
   "source": []
  }
 ],
 "metadata": {
  "kernelspec": {
   "display_name": "Python 3 (ipykernel)",
   "language": "python",
   "name": "python3"
  },
  "language_info": {
   "codemirror_mode": {
    "name": "ipython",
    "version": 3
   },
   "file_extension": ".py",
   "mimetype": "text/x-python",
   "name": "python",
   "nbconvert_exporter": "python",
   "pygments_lexer": "ipython3",
   "version": "3.9.12"
  },
  "vscode": {
   "interpreter": {
    "hash": "aee8b7b246df8f9039afb4144a1f6fd8d2ca17a180786b69acc140d282b71a49"
   }
  }
 },
 "nbformat": 4,
 "nbformat_minor": 5
}
